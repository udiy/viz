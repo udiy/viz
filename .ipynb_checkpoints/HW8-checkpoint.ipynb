{
 "cells": [
  {
   "cell_type": "markdown",
   "metadata": {
    "colab_type": "text",
    "id": "2mL2Uywfchhk"
   },
   "source": [
    "# HW8: predictive modeling"
   ]
  },
  {
   "cell_type": "markdown",
   "metadata": {
    "colab_type": "text",
    "id": "lhUABHM-chhp"
   },
   "source": [
    "## instructions\n",
    "\n",
    "our course will be using an automatic grading system. <br>\n",
    "after each question there will appear a code block with some prepared code to add your answer to a dictionary that will be sent to the course server for grading. <br>\n",
    "please do not edit any code other than in placeholders marked `#### your code here ####` <br>\n",
    "__don't forget to run the code block after you write your answer.__\n",
    "\n",
    "\n",
    "you can add code blocks wherever you want in order to interact with datasets and play with your own code. <br>\n",
    "in the next code block plase fill in your id number and email account in the appropriate placees. <br>\n",
    "and __don't forget to run the block!__"
   ]
  },
  {
   "cell_type": "code",
   "execution_count": 1,
   "metadata": {
    "ExecuteTime": {
     "end_time": "2020-05-22T16:33:42.385802Z",
     "start_time": "2020-05-22T16:33:41.056834Z"
    }
   },
   "outputs": [
    {
     "name": "stderr",
     "output_type": "stream",
     "text": [
      "\n",
      "Bad key \"text.kerning_factor\" on line 4 in\n",
      "C:\\Users\\udiyo\\AppData\\Local\\Continuum\\miniconda3\\envs\\uni\\lib\\site-packages\\matplotlib\\mpl-data\\stylelib\\_classic_test_patch.mplstyle.\n",
      "You probably need to get an updated matplotlibrc file from\n",
      "https://github.com/matplotlib/matplotlib/blob/v3.1.3/matplotlibrc.template\n",
      "or from the matplotlib source distribution\n"
     ]
    }
   ],
   "source": [
    "import numpy as np\n",
    "import pandas as pd\n",
    "\n",
    "import matplotlib.pyplot as plt\n",
    "import seaborn as sns\n",
    "\n",
    "from sklearn.linear_model import LinearRegression\n",
    "from sklearn.metrics import mean_squared_error, r2_score\n",
    "from sklearn.model_selection import train_test_split"
   ]
  },
  {
   "cell_type": "code",
   "execution_count": 2,
   "metadata": {
    "ExecuteTime": {
     "end_time": "2020-05-22T16:33:43.837662Z",
     "start_time": "2020-05-22T16:33:42.387765Z"
    }
   },
   "outputs": [],
   "source": [
    "X = pd.read_table(\"http://www.tau.ac.il/~saharon/StatsLearn2018/train_ratings_all.dat\", header = None, na_values=0)\n",
    "y = pd.read_csv(\"http://www.tau.ac.il/~saharon/StatsLearn2018/train_y_rating.dat\", header = None, names = ['score'])\n",
    "movies = pd.read_csv(\"http://www.tau.ac.il/~saharon/StatsLearn2018/movie_titles.txt\", header = None, names = ['year', 'title'])"
   ]
  },
  {
   "cell_type": "code",
   "execution_count": 3,
   "metadata": {
    "ExecuteTime": {
     "end_time": "2020-05-22T16:33:43.843275Z",
     "start_time": "2020-05-22T16:33:43.839622Z"
    },
    "colab": {},
    "colab_type": "code",
    "id": "IXAiAhRXchhr"
   },
   "outputs": [],
   "source": [
    "ans = {}\n",
    "ans['HW'] = 'HW8'\n",
    "ans['id_number'] = 308063437"
   ]
  },
  {
   "cell_type": "markdown",
   "metadata": {
    "colab_type": "text",
    "id": "HVFzj_T6chhw"
   },
   "source": [
    "#### Q1)\n",
    "Which of the following \"real life\" problems does not involve predictive modeling to perform: \n",
    "\n",
    "1. Identify spam\n",
    "\n",
    "2. Find out which lifestyle variables (weight, exercise,...) can predict blood pressure\n",
    "\n",
    "3. In a user database, find \"clusters\" of similar users\n",
    "\n",
    "4. In a user database, find users who are likely to purchase product X"
   ]
  },
  {
   "cell_type": "code",
   "execution_count": 4,
   "metadata": {
    "ExecuteTime": {
     "end_time": "2020-05-22T16:33:43.855980Z",
     "start_time": "2020-05-22T16:33:43.845609Z"
    },
    "colab": {},
    "colab_type": "code",
    "id": "tIjxgvmAchhx"
   },
   "outputs": [],
   "source": [
    "ans['Q1'] = 3"
   ]
  },
  {
   "cell_type": "markdown",
   "metadata": {
    "colab_type": "text",
    "id": "uju9FSLHchh2"
   },
   "source": [
    "#### Q2)\n",
    "Recall we defined the loss function for prediction $L(y,\\hat{y})$ as the \"cost\" of predicting $\\hat{y}$ when the truth is $y$. Assume we are in a regression problem of predicting how much of product X a store should order. Therefore, errors of underestimation (resulting in unmet demand) are much worse than overestimation (resulting in surplus in the store). What property should $L$ have to reflect this asymmetry?\n",
    "\n",
    "1. For any $a \\in \\mathbb R$, $L(a, a+c) > L(a+c,a),\\;\\forall c \\in \\mathbb R.$\n",
    "\n",
    "2. For any $a \\in \\mathbb R$, $L(a, a+c) = L(a+c,a),\\;\\forall c\\in \\mathbb R.$\n",
    "\n",
    "3. For any $a \\in \\mathbb R$, $L(a, a+c) > L(a+c,a),\\;\\forall c>0.$\n",
    "\n",
    "4. For any $a \\in \\mathbb R$, $L(a, a+c) < L(a+c,a),\\;\\forall c>0.$\n",
    "\n"
   ]
  },
  {
   "cell_type": "code",
   "execution_count": 5,
   "metadata": {
    "ExecuteTime": {
     "end_time": "2020-05-22T16:33:43.861965Z",
     "start_time": "2020-05-22T16:33:43.857975Z"
    },
    "colab": {},
    "colab_type": "code",
    "id": "AOSxJwSgchh3"
   },
   "outputs": [],
   "source": [
    "ans['Q2'] = 4"
   ]
  },
  {
   "cell_type": "markdown",
   "metadata": {
    "colab_type": "text",
    "id": "xPT5846RBqXm"
   },
   "source": [
    "For question 3 & 4, use the script that you saw in class in order to load properly the netflix data."
   ]
  },
  {
   "cell_type": "markdown",
   "metadata": {
    "colab_type": "text",
    "id": "tQsYnjb-chh-"
   },
   "source": [
    "#### Q3)\n",
    "Consider the OLS regression models like we built in class on Netflix data, with 80%-20% training-test division. First build a model which uses only the movie The Rock (column 12 in X) + constant vs the model which uses only the movie Forrest Gump (column 5) + constant. Build both models on the 80% training and compare their MSE on the 20% test. Repeat this at least 10 times with random training-test divisions, enough times to answer the following: Which movie gives better prediction of Miss Congeniality score on the test? \n",
    "\n",
    "1. They both win about half the times\n",
    "\n",
    "2. The Rock consistently does better\n",
    "\n",
    "3. Forrest Gump consistently does better\n",
    "\n",
    "4. Not enough information to decide"
   ]
  },
  {
   "cell_type": "code",
   "execution_count": 6,
   "metadata": {
    "ExecuteTime": {
     "end_time": "2020-05-22T16:33:43.869944Z",
     "start_time": "2020-05-22T16:33:43.863960Z"
    }
   },
   "outputs": [],
   "source": [
    "def mse(X):\n",
    "    \"\"\"\n",
    "    X - pandas dataframe\n",
    "    \"\"\"\n",
    "    X_train, X_test, y_train, y_test = train_test_split(X, y, test_size=0.2)\n",
    "\n",
    "    lm = LinearRegression()\n",
    "    lm.fit(X_train,y_train)\n",
    "\n",
    "    # make predictions on test set\n",
    "    preds = lm.predict(X_test).flatten()\n",
    "    \n",
    "    # return mse\n",
    "    return mean_squared_error(y_test, preds)"
   ]
  },
  {
   "cell_type": "code",
   "execution_count": 7,
   "metadata": {
    "ExecuteTime": {
     "end_time": "2020-05-22T16:33:45.506604Z",
     "start_time": "2020-05-22T16:33:43.871938Z"
    }
   },
   "outputs": [
    {
     "data": {
      "image/png": "[encoded data removed]",
      "text/plain": [
       "<Figure size 432x288 with 1 Axes>"
      ]
     },
     "metadata": {
      "needs_background": "light"
     },
     "output_type": "display_data"
    }
   ],
   "source": [
    "# the rock\n",
    "mse_the_rock = [mse(X[[12]]) for i in range(100)]\n",
    "\n",
    "# forrest gump\n",
    "mse_forrest = [mse(X[[5]]) for i in range(100)]\n",
    "\n",
    "# plot scores\n",
    "plt.plot(mse_forrest, label=\"Forest Gump\")\n",
    "plt.plot(mse_the_rock, label=\"The Rock\")\n",
    "plt.legend()\n",
    "plt.show()"
   ]
  },
  {
   "cell_type": "code",
   "execution_count": 8,
   "metadata": {
    "ExecuteTime": {
     "end_time": "2020-05-22T16:33:45.513219Z",
     "start_time": "2020-05-22T16:33:45.509597Z"
    },
    "colab": {},
    "colab_type": "code",
    "id": "hTQnOLhZchh_"
   },
   "outputs": [],
   "source": [
    "ans['Q3'] = 2"
   ]
  },
  {
   "cell_type": "markdown",
   "metadata": {
    "colab_type": "text",
    "id": "lDxN9tUlchiE"
   },
   "source": [
    "#### Q4)\n",
    "Now add the other 12 fully observed movies to each model, giving you two models, each with 13 movies + constant as explanatory variables (One model has all 14 movies **except** Forrest Gump, one all 14 except The Rock). Call the first one the \"NoGump\" model and the second the \"NoRock\" model. Repeat the previous exercise of doing many random training-test divisions, fitting each model and evaluating them on the test. Which model does better now: \n",
    "\n",
    "1. They both win about half the times\n",
    "\n",
    "2. NoGump (which includes The Rock) consistently does better\n",
    "\n",
    "3. NoRock consistently does better\n",
    "\n",
    "4. They both crash"
   ]
  },
  {
   "cell_type": "code",
   "execution_count": 9,
   "metadata": {
    "ExecuteTime": {
     "end_time": "2020-05-22T16:33:48.095613Z",
     "start_time": "2020-05-22T16:33:45.516936Z"
    }
   },
   "outputs": [
    {
     "data": {
      "image/png": "[encoded data removed]",
      "text/plain": [
       "<Figure size 432x288 with 1 Axes>"
      ]
     },
     "metadata": {
      "needs_background": "light"
     },
     "output_type": "display_data"
    }
   ],
   "source": [
    "# get all 14 movies with no na values\n",
    "X_14 = X.iloc[:,:14]\n",
    "\n",
    "mse_no_rock = [mse(X_14.drop(labels=12, axis=1)) for i in range(100)]\n",
    "mse_no_gump = [mse(X_14.drop(labels=5, axis=1)) for i in range(100)]\n",
    "\n",
    "# plot scores\n",
    "plt.plot(mse_no_gump, label=\"Forest Gump\")\n",
    "plt.plot(mse_no_rock, label=\"The Rock\")\n",
    "plt.legend()\n",
    "plt.show()"
   ]
  },
  {
   "cell_type": "code",
   "execution_count": 10,
   "metadata": {
    "ExecuteTime": {
     "end_time": "2020-05-22T16:33:48.103448Z",
     "start_time": "2020-05-22T16:33:48.098601Z"
    },
    "colab": {},
    "colab_type": "code",
    "id": "gG4LmJZWchiF"
   },
   "outputs": [],
   "source": [
    "ans['Q4'] = 1"
   ]
  },
  {
   "cell_type": "markdown",
   "metadata": {
    "colab_type": "text",
    "id": "Z4NbutzfchiN"
   },
   "source": [
    "#### Q5)\n",
    "Regardless of what you answered in the two previous problems, is it possible in theory that The Rock does better than Forrest Gump in the first setup while NoRock does better than NoGump in the second? Why?\n",
    "\n",
    "1. It is impossible, since if The Rock is a better predictor, it will be better with any combination of other variables\n",
    "\n",
    "2. It is possible, since The Rock may be a better predictor on its own, but less important in the presence of the other movies\n",
    "\n",
    "3. It is impossible, since The Rock is not in the model NoRock and Forrest Gump is not in the model NoGump\n",
    "\n",
    "4. it is possible, since the training and test set are different from each other\n"
   ]
  },
  {
   "cell_type": "code",
   "execution_count": 11,
   "metadata": {
    "ExecuteTime": {
     "end_time": "2020-05-22T16:33:48.119058Z",
     "start_time": "2020-05-22T16:33:48.105583Z"
    },
    "colab": {},
    "colab_type": "code",
    "id": "XhAmNMTrchiN"
   },
   "outputs": [],
   "source": [
    "ans['Q5'] = 2"
   ]
  },
  {
   "cell_type": "markdown",
   "metadata": {
    "colab_type": "text",
    "id": "Gbt58UYgchiU"
   },
   "source": [
    "#### Q6)\n",
    "Given a training set with $n$ training observations, $m$ test observations, response $y$, and $p=3$ explanatory variables, denoted $a,b,c$. I build  several OLS regression models: model mod1 of $y$ as a function of $a$ only, model mod2 of $y$ as a function of $a,b$ both, and model mod3 of $y$ as a function of $a,c$ both. Denote the training error (RSS of OLS solution) of the models by RSS1, RSS2, RSS3 respectively, which of the following holds: \n",
    "\n",
    "1. $RSS1 \\ge RSS2$ and $RSS1 \\ge RSS3$\n",
    "\n",
    "2. $RSS1 \\le RSS2$ and $RSS1 \\le RSS3$\n",
    "\n",
    "3. $RSS1 \\ge RSS2$ and $RSS2 = RSS3$\n",
    "\n",
    "4. We cannot say anything according to the given information"
   ]
  },
  {
   "cell_type": "code",
   "execution_count": 12,
   "metadata": {
    "ExecuteTime": {
     "end_time": "2020-05-22T16:33:48.128035Z",
     "start_time": "2020-05-22T16:33:48.122051Z"
    },
    "colab": {},
    "colab_type": "code",
    "id": "NuygP3-EchiV"
   },
   "outputs": [],
   "source": [
    "ans['Q6'] = 4"
   ]
  },
  {
   "cell_type": "markdown",
   "metadata": {
    "colab_type": "text",
    "id": "Cfpp_itschib",
    "slideshow": {
     "slide_type": "-"
    }
   },
   "source": [
    "#### Q7)\n",
    "In the same setting, denote the test sqaured error (i.e., using $L(y,\\hat{y}) = (y-\\hat{y})^2$) of the three models by MSE1, MSE2, MSE3 respectively. What can we say about the relations between these test MSEs? \n",
    "\n",
    "1. $MSE1 \\ge MSE2$ and $MSE1 \\ge MSE3$\n",
    "\n",
    "2. $MSE1 \\le MSE2$ and $MSE1 \\le MSE3$\n",
    "\n",
    "3. $MSE1 \\ge MSE2$ and $MSE2 = MSE3$\n",
    "\n",
    "4. We cannot say anything according to the given information\n",
    "\n",
    "\n"
   ]
  },
  {
   "cell_type": "code",
   "execution_count": 13,
   "metadata": {
    "ExecuteTime": {
     "end_time": "2020-05-22T16:33:48.137011Z",
     "start_time": "2020-05-22T16:33:48.132025Z"
    },
    "colab": {},
    "colab_type": "code",
    "id": "kF42d_bWchic"
   },
   "outputs": [],
   "source": [
    "ans['Q7'] = 4"
   ]
  },
  {
   "cell_type": "markdown",
   "metadata": {
    "colab_type": "text",
    "id": "KpvoUwijchig"
   },
   "source": [
    "### programming task\n",
    "use the next code block to import the \"brain size\" dataset.<br>\n",
    "the dataset details the score of a verbal IQ test and brain size measurments of 20 female collage students.<br>\n",
    "(brain size is measured as number of thousands of pixels in a MRI scan)<br>\n",
    "((yes, this is a real dataset, some people have too much spare time and free access to MRI machines..))\n",
    "<br><br>\n",
    "fit a linear regression model to predict 'VerbalIQ' as a function of 'Brain Size'. (include an intercept) <br>\n",
    "do __not__ split the data to train-test or CV.<br>\n",
    "use scikit learn implementation, as demonstrated in the recitation\n",
    "<br><br>\n",
    "report the following stats:\n",
    "\n",
    "__Q8__ - intercept<br>\n",
    "__Q9__ - coeficiant of 'Brain Size'<br>\n",
    "__Q10__ - $R^2$ of the model\n"
   ]
  },
  {
   "cell_type": "code",
   "execution_count": 14,
   "metadata": {
    "ExecuteTime": {
     "end_time": "2020-05-22T16:33:48.177901Z",
     "start_time": "2020-05-22T16:33:48.141001Z"
    },
    "colab": {},
    "colab_type": "code",
    "id": "4_ApSrHTchii"
   },
   "outputs": [
    {
     "data": {
      "text/html": [
       "<div>\n",
       "<style scoped>\n",
       "    .dataframe tbody tr th:only-of-type {\n",
       "        vertical-align: middle;\n",
       "    }\n",
       "\n",
       "    .dataframe tbody tr th {\n",
       "        vertical-align: top;\n",
       "    }\n",
       "\n",
       "    .dataframe thead th {\n",
       "        text-align: right;\n",
       "    }\n",
       "</style>\n",
       "<table border=\"1\" class=\"dataframe\">\n",
       "  <thead>\n",
       "    <tr style=\"text-align: right;\">\n",
       "      <th></th>\n",
       "      <th>VerbalIQ</th>\n",
       "      <th>Brain Size</th>\n",
       "    </tr>\n",
       "  </thead>\n",
       "  <tbody>\n",
       "    <tr>\n",
       "      <th>0</th>\n",
       "      <td>132</td>\n",
       "      <td>816.932</td>\n",
       "    </tr>\n",
       "    <tr>\n",
       "      <th>1</th>\n",
       "      <td>132</td>\n",
       "      <td>951.545</td>\n",
       "    </tr>\n",
       "    <tr>\n",
       "      <th>2</th>\n",
       "      <td>90</td>\n",
       "      <td>928.799</td>\n",
       "    </tr>\n",
       "    <tr>\n",
       "      <th>3</th>\n",
       "      <td>136</td>\n",
       "      <td>991.305</td>\n",
       "    </tr>\n",
       "    <tr>\n",
       "      <th>4</th>\n",
       "      <td>90</td>\n",
       "      <td>854.258</td>\n",
       "    </tr>\n",
       "  </tbody>\n",
       "</table>\n",
       "</div>"
      ],
      "text/plain": [
       "   VerbalIQ  Brain Size\n",
       "0       132     816.932\n",
       "1       132     951.545\n",
       "2        90     928.799\n",
       "3       136     991.305\n",
       "4        90     854.258"
      ]
     },
     "execution_count": 14,
     "metadata": {},
     "output_type": "execute_result"
    }
   ],
   "source": [
    "# Jupyter\n",
    "df = pd.read_csv('brain-size.txt', delimiter='\\t')\n",
    "df.head()"
   ]
  },
  {
   "cell_type": "code",
   "execution_count": 15,
   "metadata": {
    "ExecuteTime": {
     "end_time": "2020-05-22T16:33:48.194855Z",
     "start_time": "2020-05-22T16:33:48.179898Z"
    }
   },
   "outputs": [
    {
     "data": {
      "text/plain": [
       "LinearRegression(copy_X=True, fit_intercept=True, n_jobs=None, normalize=False)"
      ]
     },
     "execution_count": 15,
     "metadata": {},
     "output_type": "execute_result"
    }
   ],
   "source": [
    "X = df[[\"Brain Size\"]]\n",
    "y = df[\"VerbalIQ\"]\n",
    "\n",
    "lm = LinearRegression()\n",
    "lm.fit(X=X, y=y)"
   ]
  },
  {
   "cell_type": "code",
   "execution_count": 16,
   "metadata": {
    "ExecuteTime": {
     "end_time": "2020-05-22T16:33:48.203832Z",
     "start_time": "2020-05-22T16:33:48.196850Z"
    },
    "colab": {},
    "colab_type": "code",
    "id": "oJ3UHHtjchio"
   },
   "outputs": [],
   "source": [
    "ans['Q8'] = lm.intercept_\n",
    "ans['Q9'] = lm.coef_[0]\n",
    "ans['Q10'] = r2_score(y, lm.predict(X))"
   ]
  },
  {
   "cell_type": "markdown",
   "metadata": {
    "colab_type": "text",
    "id": "AKiRc8s0chiu"
   },
   "source": [
    "### Higgs boson \n",
    "The slides from the Higgs boson talk are available at moodle.\n"
   ]
  },
  {
   "cell_type": "markdown",
   "metadata": {
    "colab_type": "text",
    "id": "G-Xwjvcy-ctA"
   },
   "source": [
    "#### Q11)\n",
    " In several places (e.g., slide 56) it is mentioned that they use the 5σ rule for significance, which under the assumption that the test statistic has a normal distribution under the null, translates to testing at level about α=3×10−7.\n",
    "\n",
    "What is the reason that the level is so much lower than the standard $\\alpha=0.05$ in science?\n",
    "\n",
    "\n",
    "\n",
    "1.   There is no reason to do this\n",
    "\n",
    "2.   Because there are many possible mass values for the boson, and testing all of them at level 0.05 is guaranteed to give false discoveries, so 5σ gives confidence that the finding is valid\n",
    "\n",
    "3. Because the Higgs boson is an especially important finding, so the scientists wanted to be \"absolutely sure\" of their conclusion\n",
    "\n",
    "4. Because once we take into account the Poisson distribution and normal approximation, 5σ actually translates to a p-value threshold of α=0.05."
   ]
  },
  {
   "cell_type": "code",
   "execution_count": 17,
   "metadata": {
    "ExecuteTime": {
     "end_time": "2020-05-22T16:33:48.211810Z",
     "start_time": "2020-05-22T16:33:48.206823Z"
    },
    "colab": {},
    "colab_type": "code",
    "id": "rdnNt4Pvchiv"
   },
   "outputs": [],
   "source": [
    "ans['Q11'] = 2"
   ]
  },
  {
   "cell_type": "markdown",
   "metadata": {
    "colab_type": "text",
    "id": "Cha_G_wl_mwE"
   },
   "source": [
    "#### Q12)\n",
    "\n",
    "However, even when passing this threshold (i.e., getting smaller p-value), the scientists are still concerned that they may have a false discovery and the null in fact holds. Which of the following is __NOT__ a valid reason for this concern? \n",
    "\n",
    "\n",
    "1.   That the assumptions and models underlying the statistical analysis (such as the \"null background determination\" problem on slide 51) may be incorrect\n",
    "\n",
    "2.   That false discoveries can still happen by chance, from the nature of the hypothesis testing paradigm\n",
    "\n",
    "3. That the search space of possible hypotheses is so big, that the 5σ correction is insufficient\n",
    "\n",
    "4. That the data are so big, and the trigger mechanism throws so much of it away, that it may be too difficult to make true discoveries\n"
   ]
  },
  {
   "cell_type": "code",
   "execution_count": 18,
   "metadata": {
    "ExecuteTime": {
     "end_time": "2020-05-22T16:33:48.220796Z",
     "start_time": "2020-05-22T16:33:48.214803Z"
    },
    "colab": {},
    "colab_type": "code",
    "id": "lahXZ7_P_TbO"
   },
   "outputs": [],
   "source": [
    "ans['Q12'] = 4"
   ]
  },
  {
   "cell_type": "markdown",
   "metadata": {
    "colab_type": "text",
    "id": "AWrmQ0HOchiz"
   },
   "source": [
    "#### Q13)\n",
    "Slide 22 discusses some important probabilistic approximations. The first is $Bin(n,p)\\approx Poisson (np)$ for big $n$ and small $p.$ Investigate about this relationship with pen and paper and/or through simulations. Assume $X\\sim Bin(n,p)$ and $Y\\sim Pois(np),$ which of the following holds: \n",
    "\n",
    "1. $\\mathbb E(X) > \\mathbb E(Y),\\; Var(X) > Var(Y).$\n",
    "\n",
    "2. $\\mathbb E(X) = \\mathbb E(Y),\\; Var(X) > Var(Y).$\n",
    "\n",
    "3. $\\mathbb E(X) = \\mathbb E(Y),\\; Var(X) < Var(Y).$\n",
    "\n",
    "4. $\\mathbb E(X) < \\mathbb E(Y),\\; Var(X) < Var(Y).$"
   ]
  },
  {
   "cell_type": "code",
   "execution_count": 19,
   "metadata": {
    "ExecuteTime": {
     "end_time": "2020-05-22T16:33:48.452681Z",
     "start_time": "2020-05-22T16:33:48.223778Z"
    }
   },
   "outputs": [
    {
     "name": "stdout",
     "output_type": "stream",
     "text": [
      "\n",
      "Binomial\n",
      "mean: 200.0066\n",
      "var: 179.17275644\n",
      "\n",
      "Poisson\n",
      "mean: 200.0619\n",
      "var: 195.97686839\n",
      "\n"
     ]
    },
    {
     "data": {
      "image/png": "[encoded data removed]",
      "text/plain": [
       "<Figure size 432x288 with 1 Axes>"
      ]
     },
     "metadata": {
      "needs_background": "light"
     },
     "output_type": "display_data"
    }
   ],
   "source": [
    "n = 2000\n",
    "p = 0.1\n",
    "size = 10000\n",
    "\n",
    "x = np.random.binomial(n, p, size)\n",
    "y = np.random.poisson(n*p, size)\n",
    "\n",
    "str1 = f\"\"\"\n",
    "Binomial\n",
    "mean: {x.mean()}\n",
    "var: {x.var()}\n",
    "\n",
    "Poisson\n",
    "mean: {y.mean()}\n",
    "var: {y.var()}\n",
    "\"\"\"\n",
    "print(str1)\n",
    "\n",
    "sns.kdeplot(x, label=\"binomial\")\n",
    "sns.kdeplot(y, label=\"poisson\")\n",
    "plt.show()"
   ]
  },
  {
   "cell_type": "code",
   "execution_count": 20,
   "metadata": {
    "ExecuteTime": {
     "end_time": "2020-05-22T16:33:48.457814Z",
     "start_time": "2020-05-22T16:33:48.454822Z"
    },
    "colab": {},
    "colab_type": "code",
    "id": "Stn51uXlchi0"
   },
   "outputs": [],
   "source": [
    "ans['Q13'] = 3"
   ]
  },
  {
   "cell_type": "markdown",
   "metadata": {
    "colab_type": "text",
    "id": "nChHj4J3chi6"
   },
   "source": [
    "#### Q14)\n",
    "The second relationship discussed is that for large $\\lambda,\\; Pois(\\lambda) \\approx N(\\lambda, \\lambda).$ The slide quotes Stirling formula as a reason (you can check that out). Which of the following is a valid alternative argument for this approximation, based on what we have learned?\n",
    "\n",
    "1. The moments match properly, so the approximation is good by the Central Limit Theorem (CLT)\n",
    "\n",
    "2. The Poisson distribution describes a memoryless process with Exponential waiting time, as does the normal\n",
    "\n",
    "3. The Binomial approximation of Poisson from the previous problem + the CLT for Bernoulli \n",
    "\n",
    "4. There is no alternative valid argument"
   ]
  },
  {
   "cell_type": "code",
   "execution_count": 21,
   "metadata": {
    "ExecuteTime": {
     "end_time": "2020-05-22T16:33:48.463798Z",
     "start_time": "2020-05-22T16:33:48.459808Z"
    },
    "colab": {},
    "colab_type": "code",
    "id": "g2KI9O6Vchi7"
   },
   "outputs": [],
   "source": [
    "ans['Q14'] = 3"
   ]
  },
  {
   "cell_type": "markdown",
   "metadata": {
    "colab_type": "text",
    "id": "m-ayBeyOchjD"
   },
   "source": [
    "# finish!\n",
    "\n",
    "to submit your HW please run this last code block and follow the instructions. <BR>\n",
    "this code will create a CSV file in the current directory on the azure notebooks project <br>\n",
    "please download it and submit it through moodle"
   ]
  },
  {
   "cell_type": "code",
   "execution_count": 22,
   "metadata": {
    "ExecuteTime": {
     "end_time": "2020-05-22T16:33:48.489730Z",
     "start_time": "2020-05-22T16:33:48.466791Z"
    },
    "colab": {},
    "colab_type": "code",
    "id": "j5nCc04xchjF"
   },
   "outputs": [
    {
     "name": "stdout",
     "output_type": "stream",
     "text": [
      "OK!\n"
     ]
    }
   ],
   "source": [
    "import pandas as pd\n",
    "df_ans = pd.DataFrame.from_dict(ans, orient='index')\n",
    "if df_ans.shape[0] == 16:\n",
    "    df_ans.to_csv('{}_{}.csv'.format(ans['HW'],str(ans['id_number'])))\n",
    "    print(\"OK!\")\n",
    "else:\n",
    "    print(\"seems like you missed a question, make sure you have run all the code blocks\")"
   ]
  }
 ],
 "metadata": {
  "colab": {
   "collapsed_sections": [],
   "name": "HW8.ipynb",
   "provenance": []
  },
  "hide_input": false,
  "kernelspec": {
   "display_name": "Python 3",
   "language": "python",
   "name": "python3"
  },
  "language_info": {
   "codemirror_mode": {
    "name": "ipython",
    "version": 3
   },
   "file_extension": ".py",
   "mimetype": "text/x-python",
   "name": "python",
   "nbconvert_exporter": "python",
   "pygments_lexer": "ipython3",
   "version": "3.7.7"
  },
  "toc": {
   "base_numbering": 1,
   "nav_menu": {},
   "number_sections": true,
   "sideBar": true,
   "skip_h1_title": false,
   "title_cell": "Table of Contents",
   "title_sidebar": "Contents",
   "toc_cell": false,
   "toc_position": {},
   "toc_section_display": true,
   "toc_window_display": false
  }
 },
 "nbformat": 4,
 "nbformat_minor": 1
}
