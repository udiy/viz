{
 "cells": [
  {
   "cell_type": "code",
   "execution_count": 1,
   "metadata": {
    "ExecuteTime": {
     "end_time": "2020-06-13T18:56:22.997185Z",
     "start_time": "2020-06-13T18:56:22.989866Z"
    }
   },
   "outputs": [
    {
     "data": {
      "text/html": [
       "<script>\n",
       "code_show=true; \n",
       "function code_toggle() {\n",
       " if (code_show){\n",
       " $('div.input').hide();\n",
       " } else {\n",
       " $('div.input').show();\n",
       " }\n",
       " code_show = !code_show\n",
       "} \n",
       "$( document ).ready(code_toggle);\n",
       "</script>\n",
       "<form action=\"javascript:code_toggle()\"><input type=\"submit\" value=\"Click here to toggle on/off the raw code.\"></form>"
      ],
      "text/plain": [
       "<IPython.core.display.HTML object>"
      ]
     },
     "execution_count": 1,
     "metadata": {},
     "output_type": "execute_result"
    }
   ],
   "source": [
    "from IPython.display import HTML\n",
    "\n",
    "HTML('''<script>\n",
    "code_show=true; \n",
    "function code_toggle() {\n",
    " if (code_show){\n",
    " $('div.input').hide();\n",
    " } else {\n",
    " $('div.input').show();\n",
    " }\n",
    " code_show = !code_show\n",
    "} \n",
    "$( document ).ready(code_toggle);\n",
    "</script>\n",
    "<form action=\"javascript:code_toggle()\"><input type=\"submit\" value=\"Click here to toggle on/off the raw code.\"></form>''')"
   ]
  },
  {
   "cell_type": "code",
   "execution_count": 2,
   "metadata": {
    "ExecuteTime": {
     "end_time": "2020-06-13T18:56:24.708577Z",
     "start_time": "2020-06-13T18:56:22.998843Z"
    }
   },
   "outputs": [
    {
     "data": {
      "text/html": [
       "        <script type=\"text/javascript\">\n",
       "        window.PlotlyConfig = {MathJaxConfig: 'local'};\n",
       "        if (window.MathJax) {MathJax.Hub.Config({SVG: {font: \"STIX-Web\"}});}\n",
       "        if (typeof require !== 'undefined') {\n",
       "        require.undef(\"plotly\");\n",
       "        requirejs.config({\n",
       "            paths: {\n",
       "                'plotly': ['https://cdn.plot.ly/plotly-latest.min']\n",
       "            }\n",
       "        });\n",
       "        require(['plotly'], function(Plotly) {\n",
       "            window._Plotly = Plotly;\n",
       "        });\n",
       "        }\n",
       "        </script>\n",
       "        "
      ]
     },
     "metadata": {},
     "output_type": "display_data"
    }
   ],
   "source": [
    "import numpy as np\n",
    "import pandas as pd\n",
    "import xarray as xr\n",
    "\n",
    "from scipy import stats\n",
    "\n",
    "import plotly.graph_objs as go\n",
    "import cufflinks as cf\n",
    "\n",
    "from ipywidgets import interact\n",
    "\n",
    "\n",
    "cf.go_offline()"
   ]
  },
  {
   "cell_type": "code",
   "execution_count": 3,
   "metadata": {
    "ExecuteTime": {
     "end_time": "2020-06-13T18:56:24.996878Z",
     "start_time": "2020-06-13T18:56:24.710572Z"
    }
   },
   "outputs": [],
   "source": [
    "df_hmean = pd.read_csv(\"h_mean.csv.gz\", index_col=0, header=[0,1])\n",
    "df_fft = pd.read_parquet(\"fft.parquet.gzip\", engine=\"pyarrow\")\n",
    "str_locs = df_fft.columns\n",
    "\n",
    "ds = xr.load_dataset(\"fft_roll.nc\")"
   ]
  },
  {
   "cell_type": "markdown",
   "metadata": {},
   "source": [
    "# Hourly mean pressure"
   ]
  },
  {
   "cell_type": "code",
   "execution_count": 4,
   "metadata": {
    "ExecuteTime": {
     "end_time": "2020-06-13T18:56:25.951872Z",
     "start_time": "2020-06-13T18:56:24.997896Z"
    }
   },
   "outputs": [
    {
     "data": {
      "application/vnd.jupyter.widget-view+json": {
       "model_id": "9efb9a7dc4484b198dc6f188d69cfc93",
       "version_major": 2,
       "version_minor": 0
      },
      "text/plain": [
       "interactive(children=(Dropdown(description='loc', options=('32.5,-120.0', '32.5,-97.5', '37.5,-122.5', '37.5,-…"
      ]
     },
     "metadata": {},
     "output_type": "display_data"
    }
   ],
   "source": [
    "@interact\n",
    "\n",
    "def show_hmean(loc=str_locs):\n",
    "    \n",
    "    df_hmean[loc].iplot(subplots=True, shape=(2,1), title=f\"Location: {loc}\")"
   ]
  },
  {
   "cell_type": "markdown",
   "metadata": {},
   "source": [
    "# FFT results PSD plot\n",
    "* Hourly mean signals were standardized (z score) before FFT\n",
    "* PSD is normalized"
   ]
  },
  {
   "cell_type": "code",
   "execution_count": 5,
   "metadata": {
    "ExecuteTime": {
     "end_time": "2020-06-13T18:56:26.197188Z",
     "start_time": "2020-06-13T18:56:25.952872Z"
    }
   },
   "outputs": [
    {
     "data": {
      "application/vnd.jupyter.widget-view+json": {
       "model_id": "957f495305224fadb8b335b9a28700f7",
       "version_major": 2,
       "version_minor": 0
      },
      "text/plain": [
       "interactive(children=(Dropdown(description='loc', options=('32.5,-120.0', '32.5,-97.5', '37.5,-122.5', '37.5,-…"
      ]
     },
     "metadata": {},
     "output_type": "display_data"
    }
   ],
   "source": [
    "@interact\n",
    "def show_fft(loc=str_locs, logy=True):\n",
    "    \n",
    "    # chi 2 rv value for given ci\n",
    "    rv = stats.chi2(df=2)\n",
    "    chi95 = rv.ppf(0.95)\n",
    "    chi99 = rv.ppf(0.99)\n",
    "\n",
    "    # main plot\n",
    "    fig = df_fft[loc].dropna().iplot(asFigure=True, logy=logy, xTitle=\"Freq [cpd]\", yTitle=\"Normalized PSD\", \n",
    "                                          color=\"Navy\", title=f\"Location: {loc}\")\n",
    "    # add horizontal line\n",
    "    fig.add_trace(go.Scatter(x=[0, 12], y=[chi95, chi95], name=\"95% ci\",\n",
    "                             mode=\"lines\", line=dict(color=\"Red\",dash=\"dashdot\")))\n",
    "    \n",
    "    fig.add_trace(go.Scatter(x=[0, 12], y=[chi99, chi99], name=\"99% ci\",\n",
    "                             mode=\"lines\", line=dict(color=\"Orange\",dash=\"dashdot\")))\n",
    "    \n",
    "    # layout\n",
    "    if logy:\n",
    "        fig.update_layout(go.Layout(yaxis=dict(range=[-2,3])))\n",
    "    \n",
    "    \n",
    "    fig.update_layout(showlegend=True)\n",
    "    fig.show()"
   ]
  },
  {
   "cell_type": "markdown",
   "metadata": {
    "ExecuteTime": {
     "end_time": "2020-06-13T18:50:13.509784Z",
     "start_time": "2020-06-13T18:50:13.196582Z"
    }
   },
   "source": [
    "# Rolling fft PSD heat map"
   ]
  },
  {
   "cell_type": "code",
   "execution_count": 6,
   "metadata": {
    "ExecuteTime": {
     "end_time": "2020-06-13T18:56:28.243268Z",
     "start_time": "2020-06-13T18:56:26.215140Z"
    }
   },
   "outputs": [
    {
     "data": {
      "application/vnd.jupyter.widget-view+json": {
       "model_id": "cf97dccc575c4ceba0d26d94b7fe941f",
       "version_major": 2,
       "version_minor": 0
      },
      "text/plain": [
       "interactive(children=(Dropdown(description='loc', options=('32.5,-120.0', '32.5,-97.5', '37.5,-122.5', '37.5,-…"
      ]
     },
     "metadata": {},
     "output_type": "display_data"
    }
   ],
   "source": [
    "@interact\n",
    "def show_fft_roll(loc=str_locs):\n",
    "    \n",
    "    # get as dataframe\n",
    "    hm = ds[loc].to_dataframe().unstack(0).dropna().droplevel(0, axis=1)\n",
    "    \n",
    "    np.log10(hm).iplot(kind=\"heatmap\", yTitle=\"Frequency [cpd]\", title=f\"Log 10 Nomralized PSD for location: {loc}\")"
   ]
  },
  {
   "cell_type": "code",
   "execution_count": null,
   "metadata": {},
   "outputs": [],
   "source": []
  }
 ],
 "metadata": {
  "hide_input": false,
  "kernelspec": {
   "display_name": "Python 3",
   "language": "python",
   "name": "python3"
  },
  "language_info": {
   "codemirror_mode": {
    "name": "ipython",
    "version": 3
   },
   "file_extension": ".py",
   "mimetype": "text/x-python",
   "name": "python",
   "nbconvert_exporter": "python",
   "pygments_lexer": "ipython3",
   "version": "3.7.7"
  },
  "toc": {
   "base_numbering": 1,
   "nav_menu": {},
   "number_sections": true,
   "sideBar": true,
   "skip_h1_title": false,
   "title_cell": "Table of Contents",
   "title_sidebar": "Contents",
   "toc_cell": false,
   "toc_position": {},
   "toc_section_display": true,
   "toc_window_display": false
  }
 },
 "nbformat": 4,
 "nbformat_minor": 4
}
