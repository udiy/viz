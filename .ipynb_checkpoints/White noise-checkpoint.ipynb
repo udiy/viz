{
 "cells": [
  {
   "cell_type": "code",
   "execution_count": 1,
   "metadata": {
    "ExecuteTime": {
     "end_time": "2020-06-13T16:02:20.548885Z",
     "start_time": "2020-06-13T16:02:20.526087Z"
    }
   },
   "outputs": [
    {
     "data": {
      "text/html": [
       "<script>\n",
       "code_show=true; \n",
       "function code_toggle() {\n",
       " if (code_show){\n",
       " $('div.input').hide();\n",
       " } else {\n",
       " $('div.input').show();\n",
       " }\n",
       " code_show = !code_show\n",
       "} \n",
       "$( document ).ready(code_toggle);\n",
       "</script>\n",
       "<form action=\"javascript:code_toggle()\"><input type=\"submit\" value=\"Click here to toggle on/off the raw code.\"></form>"
      ],
      "text/plain": [
       "<IPython.core.display.HTML object>"
      ]
     },
     "execution_count": 1,
     "metadata": {},
     "output_type": "execute_result"
    }
   ],
   "source": [
    "from IPython.display import HTML\n",
    "\n",
    "HTML('''<script>\n",
    "code_show=true; \n",
    "function code_toggle() {\n",
    " if (code_show){\n",
    " $('div.input').hide();\n",
    " } else {\n",
    " $('div.input').show();\n",
    " }\n",
    " code_show = !code_show\n",
    "} \n",
    "$( document ).ready(code_toggle);\n",
    "</script>\n",
    "<form action=\"javascript:code_toggle()\"><input type=\"submit\" value=\"Click here to toggle on/off the raw code.\"></form>''')"
   ]
  },
  {
   "cell_type": "code",
   "execution_count": 2,
   "metadata": {
    "ExecuteTime": {
     "end_time": "2020-06-13T16:02:27.811540Z",
     "start_time": "2020-06-13T16:02:25.339435Z"
    }
   },
   "outputs": [],
   "source": [
    "import numpy as np\n",
    "from scipy import stats\n",
    "import pandas as pd\n",
    "\n",
    "\n",
    "import matplotlib.pyplot as plt\n",
    "import seaborn as sns\n",
    "\n",
    "from ipywidgets import interact\n",
    "\n",
    "sns.set()"
   ]
  },
  {
   "cell_type": "code",
   "execution_count": 3,
   "metadata": {
    "ExecuteTime": {
     "end_time": "2020-06-13T16:02:32.100407Z",
     "start_time": "2020-06-13T16:02:32.091111Z"
    }
   },
   "outputs": [],
   "source": [
    "def compute_fft(signal):\n",
    "    \n",
    "    \"\"\"\n",
    "    Compute real fft for signal with a sampling rate 24 samples per day.\n",
    "    Returns a dataframe with complex numbers, amplitude and PSD\n",
    "    \"\"\"\n",
    "    \n",
    "    # compute real fft on centered hourly mean time series\n",
    "    n = len(signal)\n",
    "    spectra = np.fft.rfft(signal)\n",
    "    freq = np.fft.rfftfreq(n=n, d=(1/24))\n",
    "    \n",
    "    # compute normalized psd\n",
    "    real = spectra.real\n",
    "    imag = spectra.imag\n",
    "    psd_norm = (real / real.std())**2 + (imag / imag.std())**2\n",
    "\n",
    "    # compute amplitude and psd from the complex numbers and store in df and return it\n",
    "    fft_data = {\"complex\": spectra, \"real\": real, \"imag\": imag, \n",
    "                \"amp\": np.abs(spectra), \"psd\": np.abs(spectra)**2, \"psd_norm\": psd_norm}\n",
    "    \n",
    "    return pd.DataFrame(data=fft_data, index=pd.Index(freq, name=\"freq\"))"
   ]
  },
  {
   "cell_type": "markdown",
   "metadata": {},
   "source": [
    "# Null hyp: time series is random, white noise\n",
    "PSD of white noise **after normalization** is approximately distributed like chi square distribution with 2 degrees of freedom. But, what kind of normalization?\n",
    "\n",
    "Notations:\n",
    "\n",
    "* s - time series, real numbers\n",
    "* S - FFT of s, complex numbers\n",
    "* Sr - real part of S\n",
    "* Si - imaginary part of S\n",
    "\n",
    "\n",
    "$$\n",
    "PSD = Sr^2 + Si^2\n",
    "$$\n",
    "\n",
    "\n",
    "$$\n",
    "Normalized_PSD = (\\frac{Sr}{std(Sr)})^2 + (\\frac{Si}{std(Si)})^2\n",
    "$$"
   ]
  },
  {
   "cell_type": "code",
   "execution_count": 4,
   "metadata": {
    "ExecuteTime": {
     "end_time": "2020-06-13T16:03:22.868957Z",
     "start_time": "2020-06-13T16:03:19.359705Z"
    }
   },
   "outputs": [
    {
     "data": {
      "application/vnd.jupyter.widget-view+json": {
       "model_id": "1a1eb02c042a4a309a925158bdb947d0",
       "version_major": 2,
       "version_minor": 0
      },
      "text/plain": [
       "interactive(children=(Dropdown(description='ci', options=(0.95, 0.99), value=0.95), Output()), _dom_classes=('…"
      ]
     },
     "metadata": {},
     "output_type": "display_data"
    }
   ],
   "source": [
    "@interact\n",
    "\n",
    "def show_white(ci=[0.95, 0.99]):\n",
    "    \"\"\"\n",
    "    \"\"\"\n",
    "    # generate white noise series of the same size as signal and compute fft\n",
    "\n",
    "    white = pd.Series(np.random.normal(size=5000))\n",
    "    white_fft = compute_fft(white)\n",
    "\n",
    "\n",
    "    fig, (ax1, ax2) = plt.subplots(1,2, figsize=(16,4))\n",
    "\n",
    "    # plot normalized psd of white noise\n",
    "    white_fft[\"psd_norm\"].plot(kind=\"hist\", density=True, bins=50, ax=ax1, \n",
    "                               title=\"Chi distribution vs white spectrum histogram\")\n",
    "\n",
    "    # plot chi squared dist with 2 degrees of freedom\n",
    "    rv = stats.chi2(df=2)\n",
    "    x = np.arange(0, 15, 0.05)\n",
    "    ax1.plot(x, rv.pdf(x))\n",
    "\n",
    "    # plot ci\n",
    "    ci = rv.ppf(ci)\n",
    "    ax1.axvline(ci, color=\"r\", linestyle=\"dashed\")\n",
    "    ax1.set_xlabel(\"PSD\")\n",
    "    ax1.set_ylabel(\"Relative frequency\")\n",
    "\n",
    "\n",
    "    # plot white spectrum\n",
    "    white_fft[\"psd_norm\"].plot(ax=ax2, logy=True, title=\"PSD of white noise\")\n",
    "    ax2.axhline(ci, color=\"r\", linestyle=\"dashed\")\n",
    "    ax2.set_xlabel(\"Freq [cpd]\")\n",
    "    ax2.set_ylabel(\"PSD\")\n",
    "    ax2.set_ylim(bottom=0.1)\n",
    "\n",
    "    plt.show()"
   ]
  },
  {
   "cell_type": "code",
   "execution_count": null,
   "metadata": {},
   "outputs": [],
   "source": []
  }
 ],
 "metadata": {
  "hide_input": true,
  "kernelspec": {
   "display_name": "Python 3",
   "language": "python",
   "name": "python3"
  },
  "language_info": {
   "codemirror_mode": {
    "name": "ipython",
    "version": 3
   },
   "file_extension": ".py",
   "mimetype": "text/x-python",
   "name": "python",
   "nbconvert_exporter": "python",
   "pygments_lexer": "ipython3",
   "version": "3.7.7"
  },
  "toc": {
   "base_numbering": 1,
   "nav_menu": {},
   "number_sections": true,
   "sideBar": true,
   "skip_h1_title": false,
   "title_cell": "Table of Contents",
   "title_sidebar": "Contents",
   "toc_cell": false,
   "toc_position": {},
   "toc_section_display": true,
   "toc_window_display": false
  },
  "widgets": {
   "application/vnd.jupyter.widget-state+json": {
    "state": {
     "2a249c786a0d422d9dcf271c18437eb9": {
      "model_module": "@jupyter-widgets/base",
      "model_module_version": "1.2.0",
      "model_name": "LayoutModel",
      "state": {}
     },
     "2f25cd7497074afb94272c9014c25c84": {
      "model_module": "@jupyter-widgets/output",
      "model_module_version": "1.0.0",
      "model_name": "OutputModel",
      "state": {
       "layout": "IPY_MODEL_8fd63cc97d724e0683821c80aea4f429",
       "outputs": [
        {
         "data": {
          "image/png": "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\n",
          "text/plain": "<Figure size 1152x288 with 2 Axes>"
         },
         "metadata": {},
         "output_type": "display_data"
        }
       ]
      }
     },
     "505e9039fbc84d9bbe26f5918c91a061": {
      "model_module": "@jupyter-widgets/controls",
      "model_module_version": "1.5.0",
      "model_name": "VBoxModel",
      "state": {
       "_dom_classes": [
        "widget-interact"
       ],
       "children": [
        "IPY_MODEL_f1cb4c725dee42a3a7f08ae1a93885cf",
        "IPY_MODEL_2f25cd7497074afb94272c9014c25c84"
       ],
       "layout": "IPY_MODEL_688ae2f707164a4bacd185379c26d2fe"
      }
     },
     "688ae2f707164a4bacd185379c26d2fe": {
      "model_module": "@jupyter-widgets/base",
      "model_module_version": "1.2.0",
      "model_name": "LayoutModel",
      "state": {}
     },
     "8fd63cc97d724e0683821c80aea4f429": {
      "model_module": "@jupyter-widgets/base",
      "model_module_version": "1.2.0",
      "model_name": "LayoutModel",
      "state": {}
     },
     "dedea6fb34334fddaad4ac586ce6eee1": {
      "model_module": "@jupyter-widgets/controls",
      "model_module_version": "1.5.0",
      "model_name": "DescriptionStyleModel",
      "state": {
       "description_width": ""
      }
     },
     "f1cb4c725dee42a3a7f08ae1a93885cf": {
      "model_module": "@jupyter-widgets/controls",
      "model_module_version": "1.5.0",
      "model_name": "DropdownModel",
      "state": {
       "_options_labels": [
        "0.95",
        "0.99"
       ],
       "description": "ci",
       "index": 0,
       "layout": "IPY_MODEL_2a249c786a0d422d9dcf271c18437eb9",
       "style": "IPY_MODEL_dedea6fb34334fddaad4ac586ce6eee1"
      }
     }
    },
    "version_major": 2,
    "version_minor": 0
   }
  }
 },
 "nbformat": 4,
 "nbformat_minor": 4
}
