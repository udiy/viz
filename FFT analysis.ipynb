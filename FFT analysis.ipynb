{
 "cells": [
  {
   "cell_type": "code",
   "execution_count": 1,
   "metadata": {
    "ExecuteTime": {
     "end_time": "2020-07-21T09:09:55.521448Z",
     "start_time": "2020-07-21T09:09:55.508483Z"
    },
    "slideshow": {
     "slide_type": "skip"
    }
   },
   "outputs": [
    {
     "data": {
      "text/html": [
       "<style>.container { width:90% !important; }</style>"
      ],
      "text/plain": [
       "<IPython.core.display.HTML object>"
      ]
     },
     "metadata": {},
     "output_type": "display_data"
    },
    {
     "data": {
      "text/html": [
       "<script>\n",
       "code_show=true; \n",
       "function code_toggle() {\n",
       " if (code_show){\n",
       " $('div.input').hide();\n",
       " } else {\n",
       " $('div.input').show();\n",
       " }\n",
       " code_show = !code_show\n",
       "} \n",
       "$( document ).ready(code_toggle);\n",
       "</script>\n",
       "<form action=\"javascript:code_toggle()\"><input type=\"submit\" value=\"Click here to toggle on/off the raw code.\"></form>"
      ],
      "text/plain": [
       "<IPython.core.display.HTML object>"
      ]
     },
     "execution_count": 1,
     "metadata": {},
     "output_type": "execute_result"
    }
   ],
   "source": [
    "from IPython.display import HTML, display\n",
    "\n",
    "\n",
    "display(HTML(\"<style>.container { width:\" + f\"{90}% \" + \"!important; }</style>\"))\n",
    "\n",
    "\n",
    "HTML('''<script>\n",
    "code_show=true; \n",
    "function code_toggle() {\n",
    " if (code_show){\n",
    " $('div.input').hide();\n",
    " } else {\n",
    " $('div.input').show();\n",
    " }\n",
    " code_show = !code_show\n",
    "} \n",
    "$( document ).ready(code_toggle);\n",
    "</script>\n",
    "<form action=\"javascript:code_toggle()\"><input type=\"submit\" value=\"Click here to toggle on/off the raw code.\"></form>''')"
   ]
  },
  {
   "cell_type": "code",
   "execution_count": 2,
   "metadata": {
    "ExecuteTime": {
     "end_time": "2020-07-21T09:09:56.554193Z",
     "start_time": "2020-07-21T09:09:55.523444Z"
    },
    "slideshow": {
     "slide_type": "skip"
    }
   },
   "outputs": [
    {
     "data": {
      "text/html": [
       "        <script type=\"text/javascript\">\n",
       "        window.PlotlyConfig = {MathJaxConfig: 'local'};\n",
       "        if (window.MathJax) {MathJax.Hub.Config({SVG: {font: \"STIX-Web\"}});}\n",
       "        if (typeof require !== 'undefined') {\n",
       "        require.undef(\"plotly\");\n",
       "        requirejs.config({\n",
       "            paths: {\n",
       "                'plotly': ['https://cdn.plot.ly/plotly-latest.min']\n",
       "            }\n",
       "        });\n",
       "        require(['plotly'], function(Plotly) {\n",
       "            window._Plotly = Plotly;\n",
       "        });\n",
       "        }\n",
       "        </script>\n",
       "        "
      ]
     },
     "metadata": {},
     "output_type": "display_data"
    }
   ],
   "source": [
    "import numpy as np\n",
    "import pandas as pd\n",
    "from scipy import stats\n",
    "\n",
    "import plotly.graph_objs as go\n",
    "import plotly.express as px\n",
    "import cufflinks as cf\n",
    "\n",
    "import ipywidgets as widgets\n",
    "from ipywidgets import interact\n",
    "\n",
    "cf.go_offline()"
   ]
  },
  {
   "cell_type": "code",
   "execution_count": 3,
   "metadata": {
    "ExecuteTime": {
     "end_time": "2020-07-21T09:09:59.433378Z",
     "start_time": "2020-07-21T09:09:56.556188Z"
    },
    "slideshow": {
     "slide_type": "skip"
    }
   },
   "outputs": [],
   "source": [
    "df_hmean = pd.read_csv(\"data/h_mean.csv.gz\", index_col=0, header=[0,1])\n",
    "df_fft = pd.read_parquet(\"data/fft.parquet.gzip\", engine=\"pyarrow\")\n",
    "str_locs = df_fft.columns\n",
    "\n",
    "df_fft_roll = pd.read_csv(\"data/fft_roll.csv.gz\").set_index([\"freq\", \"timestamp\"])"
   ]
  },
  {
   "cell_type": "markdown",
   "metadata": {},
   "source": [
    "*Data here is only for 15 locations with biggest count of data points*"
   ]
  },
  {
   "cell_type": "markdown",
   "metadata": {
    "slideshow": {
     "slide_type": "slide"
    }
   },
   "source": [
    "# Time series - Hourly mean pressure"
   ]
  },
  {
   "cell_type": "code",
   "execution_count": 4,
   "metadata": {
    "ExecuteTime": {
     "end_time": "2020-07-21T09:09:59.467591Z",
     "start_time": "2020-07-21T09:09:59.434342Z"
    },
    "slideshow": {
     "slide_type": "skip"
    }
   },
   "outputs": [],
   "source": [
    "grid_dict = dict(showgrid=True, gridcolor=\"black\", gridwidth=0.1, dtick=2.5)\n",
    "\n",
    "geo_dict = dict(projection_type=\"natural earth\", showcoastlines=False, showrivers=True, showframe=False,\n",
    "                showcountries=True, countrycolor=\"white\",\n",
    "                showland=True, landcolor=\"#c2c2c2\",\n",
    "                showocean=True, oceancolor=\"#e6fcfc\",\n",
    "                showlakes=True, lakecolor=\"#3399FF\",\n",
    "                lonaxis=grid_dict, lataxis=grid_dict)\n",
    "\n",
    "scatter_geo_layout = go.Layout(geo=geo_dict)"
   ]
  },
  {
   "cell_type": "code",
   "execution_count": 5,
   "metadata": {
    "ExecuteTime": {
     "end_time": "2020-07-21T09:10:00.346117Z",
     "start_time": "2020-07-21T09:09:59.468551Z"
    },
    "slideshow": {
     "slide_type": "fragment"
    }
   },
   "outputs": [
    {
     "data": {
      "application/vnd.jupyter.widget-view+json": {
       "model_id": "b393914522694ad69af7148a07acc151",
       "version_major": 2,
       "version_minor": 0
      },
      "text/plain": [
       "interactive(children=(Dropdown(description='loc', options=('32.5,-120.0', '32.5,-97.5', '37.5,-122.5', '37.5,-…"
      ]
     },
     "metadata": {},
     "output_type": "display_data"
    }
   ],
   "source": [
    "@interact\n",
    "\n",
    "def show_hmean(loc=str_locs):\n",
    "    \n",
    "    title = f\"Hourly mean pressure for location: {loc}\"\n",
    "    fig = df_hmean[loc].iplot(subplots=True, shape=(2,1), title=title, legend=False, asFigure=True)\n",
    "    \n",
    "    fig.layout[\"yaxis\"][\"title\"][\"text\"] = \"Pressure [mb]\"\n",
    "    fig.layout[\"yaxis2\"][\"title\"][\"text\"] = \"Count\"\n",
    "    fig.show()\n",
    "    \n",
    "    \n",
    "    tup_loc = loc.split(\",\")\n",
    "    fig = px.scatter_geo(lat=[tup_loc[0]], lon=[tup_loc[1]], size=[20])\n",
    "    fig.update_layout(scatter_geo_layout)\n",
    "    fig.show()    "
   ]
  },
  {
   "cell_type": "markdown",
   "metadata": {
    "slideshow": {
     "slide_type": "slide"
    }
   },
   "source": [
    "# PSD plot"
   ]
  },
  {
   "cell_type": "code",
   "execution_count": 6,
   "metadata": {
    "ExecuteTime": {
     "end_time": "2020-07-21T09:10:00.500728Z",
     "start_time": "2020-07-21T09:10:00.347115Z"
    },
    "slideshow": {
     "slide_type": "fragment"
    }
   },
   "outputs": [
    {
     "data": {
      "application/vnd.jupyter.widget-view+json": {
       "model_id": "5b935c4967984c9582fc78e0d907ba2d",
       "version_major": 2,
       "version_minor": 0
      },
      "text/plain": [
       "interactive(children=(Dropdown(description='loc', options=('32.5,-120.0', '32.5,-97.5', '37.5,-122.5', '37.5,-…"
      ]
     },
     "metadata": {},
     "output_type": "display_data"
    }
   ],
   "source": [
    "# chi 2 rv value for given ci\n",
    "rv = stats.chi2(df=2)\n",
    "chi95 = rv.ppf(0.95)\n",
    "chi99 = rv.ppf(0.99)\n",
    "chi999 = rv.ppf(0.999)\n",
    "\n",
    "@interact\n",
    "def show_fft(loc=str_locs, logy=True):\n",
    "\n",
    "    # main plot\n",
    "    fig = df_fft[loc].dropna().iplot(asFigure=True, logy=logy, xTitle=\"Freq [cpd]\", yTitle=\"Normalized PSD\", \n",
    "                                          color=\"Navy\", title=f\"Location: {loc}\")\n",
    "    # add horizontal line\n",
    "    fig.add_trace(go.Scatter(x=[0, 12], y=[chi95, chi95], name=\"95% ci\",\n",
    "                             mode=\"lines\", line=dict(color=\"Red\",dash=\"dashdot\")))\n",
    "    \n",
    "    fig.add_trace(go.Scatter(x=[0, 12], y=[chi99, chi99], name=\"99% ci\",\n",
    "                             mode=\"lines\", line=dict(color=\"Orange\",dash=\"dashdot\")))\n",
    "    \n",
    "    fig.add_trace(go.Scatter(x=[0, 12], y=[chi999, chi999], name=\"99.9% ci\",\n",
    "                             mode=\"lines\", line=dict(color=\"Green\",dash=\"dashdot\")))\n",
    "    \n",
    "    # layout\n",
    "    if logy:\n",
    "        fig.update_layout(go.Layout(yaxis=dict(range=[-2,3])))\n",
    "    \n",
    "    \n",
    "    fig.update_layout(showlegend=True)\n",
    "    fig.show()"
   ]
  },
  {
   "cell_type": "markdown",
   "metadata": {
    "ExecuteTime": {
     "end_time": "2020-06-13T18:50:13.509784Z",
     "start_time": "2020-06-13T18:50:13.196582Z"
    },
    "slideshow": {
     "slide_type": "skip"
    }
   },
   "source": [
    "# PSD heat map - rolling FFT "
   ]
  },
  {
   "cell_type": "code",
   "execution_count": 7,
   "metadata": {
    "ExecuteTime": {
     "end_time": "2020-07-21T09:10:02.140397Z",
     "start_time": "2020-07-21T09:10:00.501724Z"
    },
    "hide_input": false,
    "slideshow": {
     "slide_type": "skip"
    }
   },
   "outputs": [
    {
     "data": {
      "application/vnd.jupyter.widget-view+json": {
       "model_id": "6d1627814f9d49008f418f916f9c9de7",
       "version_major": 2,
       "version_minor": 0
      },
      "text/plain": [
       "interactive(children=(Dropdown(description='loc', options=('32.5,-120.0', '32.5,-97.5', '37.5,-122.5', '37.5,-…"
      ]
     },
     "metadata": {},
     "output_type": "display_data"
    }
   ],
   "source": [
    "z_slider = widgets.FloatRangeSlider(value=(0,2), min=-8, max=4, step=0.5)\n",
    "\n",
    "@interact\n",
    "\n",
    "def show_fft_roll(loc=str_locs, colorscale=[\"purples\", \"spectral\", \"ylgnbu\", \"ylorrd\"], \n",
    "                  inverted_colorscale=True, color_range=z_slider):\n",
    "    \n",
    "    hm = df_fft_roll[loc].unstack(0).dropna()\n",
    "    \n",
    "    if inverted_colorscale:\n",
    "        cs = f\"-{colorscale}\"\n",
    "    else:\n",
    "        cs = colorscale\n",
    "    \n",
    "    np.log10(hm).iplot(kind=\"heatmap\", yTitle=\"Frequency [cpd]\", \n",
    "                       title=f\"Log 10 Nomralized PSD for location: {loc}\", colorscale=cs, \n",
    "                       zmin=color_range[0], zmax=color_range[1])"
   ]
  }
 ],
 "metadata": {
  "celltoolbar": "Slideshow",
  "hide_input": false,
  "kernelspec": {
   "display_name": "Python 3",
   "language": "python",
   "name": "python3"
  },
  "language_info": {
   "codemirror_mode": {
    "name": "ipython",
    "version": 3
   },
   "file_extension": ".py",
   "mimetype": "text/x-python",
   "name": "python",
   "nbconvert_exporter": "python",
   "pygments_lexer": "ipython3",
   "version": "3.8.3"
  },
  "toc": {
   "base_numbering": 1,
   "nav_menu": {
    "height": "217px",
    "width": "314px"
   },
   "number_sections": false,
   "sideBar": true,
   "skip_h1_title": false,
   "title_cell": "Table of Contents",
   "title_sidebar": "Contents",
   "toc_cell": false,
   "toc_position": {},
   "toc_section_display": true,
   "toc_window_display": false
  }
 },
 "nbformat": 4,
 "nbformat_minor": 4
}
